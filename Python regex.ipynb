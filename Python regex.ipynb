{
 "cells": [
  {
   "cell_type": "markdown",
   "metadata": {},
   "source": [
    "# Best Link : https://www.programiz.com/python-programming/regex\n"
   ]
  },
  {
   "cell_type": "markdown",
   "metadata": {},
   "source": [
    "# https://www.w3schools.com/python/python_regex.asp"
   ]
  },
  {
   "cell_type": "markdown",
   "metadata": {},
   "source": [
    "# https://www.analyticsvidhya.com/blog/2015/06/regular-expression-python/"
   ]
  },
  {
   "cell_type": "markdown",
   "metadata": {},
   "source": [
    "# https://www.tutorialspoint.com/python/python_reg_expressions.htm"
   ]
  },
  {
   "cell_type": "markdown",
   "metadata": {},
   "source": [
    "#### Search the string to see if it starts with \"The\" and ends with \"Spain\":"
   ]
  },
  {
   "cell_type": "code",
   "execution_count": 5,
   "metadata": {},
   "outputs": [],
   "source": [
    "# Function\tDescription\n",
    "# ------------------\n",
    "# findall\tReturns a list containing all matches\n",
    "# search\tReturns a Match object if there is a match anywhere in the string\n",
    "# split\tReturns a list where the string has been split at each match\n",
    "# sub\tReplaces one or many matches with a string"
   ]
  },
  {
   "cell_type": "code",
   "execution_count": 79,
   "metadata": {},
   "outputs": [],
   "source": [
    "# Meta Characters ---> [] . ^ $ * + ? {} () \\ |\n",
    "# [] - matches any characters we give inside. Meaning, it can be any of the characters given inside\n",
    "# examples - [abc] - meaning any of a or b or c; [^abc] means a single chaarcter whihc is not one of a or b or c\n",
    "# [a-dk]{2} - implies one of a to d followed by k"
   ]
  },
  {
   "cell_type": "code",
   "execution_count": 3,
   "metadata": {},
   "outputs": [
    {
     "name": "stdout",
     "output_type": "stream",
     "text": [
      "<re.Match object; span=(0, 17), match='The rain in Spain'>\n",
      "YES! We have a match!\n"
     ]
    }
   ],
   "source": [
    "import re\n",
    "\n",
    "txt = \"The rain in Spain\"\n",
    "x = re.search(r'^The.*Spain$', txt)\n",
    "print(x)\n",
    "if (x):\n",
    "  print(\"YES! We have a match!\")\n",
    "else:\n",
    "  print(\"No match\")"
   ]
  },
  {
   "cell_type": "markdown",
   "metadata": {},
   "source": [
    "#### Practising ^ and $ "
   ]
  },
  {
   "cell_type": "code",
   "execution_count": 36,
   "metadata": {},
   "outputs": [
    {
     "name": "stdout",
     "output_type": "stream",
     "text": [
      " x : searched value is Spain\n",
      " y : searched value is None\n",
      " z : searched value is n\n",
      " x : searched value is The rain\n",
      " y : searched value is None\n",
      " z : searched value is T\n"
     ]
    }
   ],
   "source": [
    "#case insensitive matching\n",
    "#---------------------------\n",
    "txt = \"The rain in Spain\"\n",
    "x=re.search(r'spain$',txt,re.I).group()\n",
    "y=re.search(r'spain$',txt)\n",
    "z=re.search(r'n$',txt).group(0)\n",
    "print(\" x : searched value is %s\" % x)\n",
    "print(\" y : searched value is %s\" % y)\n",
    "print(\" z : searched value is %s\" % z)\n",
    "\n",
    "x=re.search(r'^the rain',txt,re.I).group()\n",
    "y=re.search(r'^t',txt)\n",
    "z=re.search(r'^T',txt).group(0)\n",
    "print(\" x : searched value is %s\" % x)\n",
    "print(\" y : searched value is %s\" % y)\n",
    "print(\" z : searched value is %s\" % z)"
   ]
  },
  {
   "cell_type": "code",
   "execution_count": 47,
   "metadata": {},
   "outputs": [
    {
     "name": "stdout",
     "output_type": "stream",
     "text": [
      " x : searched value is 435\n"
     ]
    }
   ],
   "source": [
    "# is starting with a number?\n",
    "txt = \"435The rain in Spain\"\n",
    "x=re.search(r'^[0-9]*',txt).group()\n",
    "# y=re.search(r'spain$',txt)\n",
    "# z=re.search(r'n$',txt).group(0)\n",
    "print(\" x : searched value is %s\" % x)\n",
    "# print(\" y : searched value is %s\" % y)\n",
    "# print(\" z : searched value is %s\" % z)\n"
   ]
  },
  {
   "cell_type": "code",
   "execution_count": 48,
   "metadata": {},
   "outputs": [
    {
     "name": "stdout",
     "output_type": "stream",
     "text": [
      " x : searched value is 435\n"
     ]
    }
   ],
   "source": [
    "# is ending with a number?\n",
    "txt = \"The rain in Spain435\"\n",
    "x=re.search(r'[0-9]*$',txt).group()\n",
    "# y=re.search(r'spain$',txt)\n",
    "# z=re.search(r'n$',txt).group(0)\n",
    "print(\" x : searched value is %s\" % x)\n",
    "# print(\" y : searched value is %s\" % y)\n",
    "# print(\" z : searched value is %s\" % z)\n"
   ]
  },
  {
   "cell_type": "code",
   "execution_count": 69,
   "metadata": {},
   "outputs": [
    {
     "name": "stdout",
     "output_type": "stream",
     "text": [
      " x : searched value is 435--566\n"
     ]
    }
   ],
   "source": [
    "# is starting with a number till \":\" {sepcifies exact number of elements}?\n",
    "txt = \"435--566: The rain in Spain\"\n",
    "x=re.search(r'^[0-9]{3}.{2}[0-9]{3}',txt).group()\n",
    "# y=re.search(r'spain$',txt)\n",
    "# z=re.search(r'n$',txt).group(0)\n",
    "print(\" x : searched value is %s\" % x)\n",
    "# print(\" y : searched value is %s\" % y)\n",
    "# print(\" z : searched value is %s\" % z)\n"
   ]
  },
  {
   "cell_type": "code",
   "execution_count": 76,
   "metadata": {},
   "outputs": [
    {
     "name": "stdout",
     "output_type": "stream",
     "text": [
      " x : searched value is 435\n"
     ]
    }
   ],
   "source": [
    "# is starting with a number till \":\" {sepcifies exact number of elements}?\n",
    "txt = \"435--566: The rain in Spain\"\n",
    "x=re.search(r'^[4]*.{2}',txt).group()\n",
    "# y=re.search(r'spain$',txt)\n",
    "# z=re.search(r'n$',txt).group(0)\n",
    "print(\" x : searched value is %s\" % x)\n",
    "# print(\" y : searched value is %s\" % y)\n",
    "# print(\" z : searched value is %s\" % z)\n"
   ]
  },
  {
   "cell_type": "code",
   "execution_count": 114,
   "metadata": {},
   "outputs": [
    {
     "name": "stdout",
     "output_type": "stream",
     "text": [
      " x : searched value is ['1234', '3333']\n"
     ]
    }
   ],
   "source": [
    "# is starting with a number till \":\" {sepcifies exact number of elements}?\n",
    "txt = \"1234 | hdd,bdd,fff | slot 4 || 3333 | hdd,kkk,fff | slot 5\"\n",
    "x=re.findall(r'[(a|z)(0-9)]{4}',txt)\n",
    "# y=re.search(r'spain$',txt)\n",
    "# z=re.search(r'n$',txt).group(0)\n",
    "print(\" x : searched value is %s\" % x)\n",
    "# print(\" y : searched value is %s\" % y)\n",
    "# print(\" z : searched value is %s\" % z)\n"
   ]
  },
  {
   "cell_type": "code",
   "execution_count": 108,
   "metadata": {},
   "outputs": [
    {
     "data": {
      "text/plain": [
       "['aa', 'aa']"
      ]
     },
     "execution_count": 108,
     "metadata": {},
     "output_type": "execute_result"
    }
   ],
   "source": [
    "txt=\"aabcdej ghjaak\"\n",
    "re.findall(r'a{2,3}',txt)"
   ]
  }
 ],
 "metadata": {
  "kernelspec": {
   "display_name": "Python 3",
   "language": "python",
   "name": "python3"
  },
  "language_info": {
   "codemirror_mode": {
    "name": "ipython",
    "version": 3
   },
   "file_extension": ".py",
   "mimetype": "text/x-python",
   "name": "python",
   "nbconvert_exporter": "python",
   "pygments_lexer": "ipython3",
   "version": "3.7.3"
  }
 },
 "nbformat": 4,
 "nbformat_minor": 2
}
